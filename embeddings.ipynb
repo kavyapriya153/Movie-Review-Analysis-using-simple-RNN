{
 "cells": [
  {
   "cell_type": "code",
   "execution_count": 1,
   "id": "7aad9180",
   "metadata": {},
   "outputs": [],
   "source": [
    "from tensorflow.keras.preprocessing.text import one_hot"
   ]
  },
  {
   "cell_type": "code",
   "execution_count": 2,
   "id": "a76ca58f",
   "metadata": {},
   "outputs": [
    {
     "data": {
      "text/plain": [
       "['the glass of milk',\n",
       " 'the glass of juice',\n",
       " 'the cup of tea',\n",
       " 'I am a good boy',\n",
       " 'I am a good developer',\n",
       " 'understand the meaning of words',\n",
       " 'your videos are good']"
      ]
     },
     "execution_count": 2,
     "metadata": {},
     "output_type": "execute_result"
    }
   ],
   "source": [
    "### sentences\n",
    "sent=[  'the glass of milk',\n",
    "     'the glass of juice',\n",
    "     'the cup of tea',\n",
    "    'I am a good boy',\n",
    "     'I am a good developer',\n",
    "     'understand the meaning of words',\n",
    "     'your videos are good',]\n",
    "sent"
   ]
  },
  {
   "cell_type": "code",
   "execution_count": 3,
   "id": "571a2cda",
   "metadata": {},
   "outputs": [
    {
     "data": {
      "text/plain": [
       "['the glass of milk',\n",
       " 'the glass of juice',\n",
       " 'the cup of tea',\n",
       " 'I am a good boy',\n",
       " 'I am a good developer',\n",
       " 'understand the meaning of words',\n",
       " 'your videos are good']"
      ]
     },
     "execution_count": 3,
     "metadata": {},
     "output_type": "execute_result"
    }
   ],
   "source": [
    "## Define the vocabulary size\n",
    "voc_size=10000\n",
    "sent"
   ]
  },
  {
   "cell_type": "code",
   "execution_count": 4,
   "id": "1ac76a52",
   "metadata": {},
   "outputs": [
    {
     "data": {
      "text/plain": [
       "[[3640, 8173, 4859, 7428],\n",
       " [3640, 8173, 4859, 7],\n",
       " [3640, 8852, 4859, 2037],\n",
       " [6665, 2783, 8341, 3958, 3546],\n",
       " [6665, 2783, 8341, 3958, 1757],\n",
       " [9121, 3640, 1699, 4859, 2357],\n",
       " [9557, 9268, 4736, 3958]]"
      ]
     },
     "execution_count": 4,
     "metadata": {},
     "output_type": "execute_result"
    }
   ],
   "source": [
    "### One Hot Representation\n",
    "one_hot_repr=[one_hot(words,voc_size)for words in sent]\n",
    "one_hot_repr"
   ]
  },
  {
   "cell_type": "code",
   "execution_count": 5,
   "id": "d0f2bbb8",
   "metadata": {},
   "outputs": [],
   "source": [
    "## word Embedding Representation\n",
    "\n",
    "from tensorflow.keras.layers import Embedding\n",
    "#from tensorflow.keras.processing.sequence import pad_sequences\n",
    "from tensorflow.keras.utils import pad_sequences\n",
    "from tensorflow.keras.models import Sequential"
   ]
  },
  {
   "cell_type": "code",
   "execution_count": 6,
   "id": "b966b7d7",
   "metadata": {},
   "outputs": [],
   "source": [
    "import numpy as np"
   ]
  },
  {
   "cell_type": "code",
   "execution_count": 7,
   "id": "107c3fb1",
   "metadata": {},
   "outputs": [
    {
     "name": "stdout",
     "output_type": "stream",
     "text": [
      "[[   0    0    0    0 3640 8173 4859 7428]\n",
      " [   0    0    0    0 3640 8173 4859    7]\n",
      " [   0    0    0    0 3640 8852 4859 2037]\n",
      " [   0    0    0 6665 2783 8341 3958 3546]\n",
      " [   0    0    0 6665 2783 8341 3958 1757]\n",
      " [   0    0    0 9121 3640 1699 4859 2357]\n",
      " [   0    0    0    0 9557 9268 4736 3958]]\n"
     ]
    }
   ],
   "source": [
    "sent_length=8\n",
    "embedded_docs=pad_sequences(one_hot_repr,padding='pre',maxlen=sent_length)\n",
    "print(embedded_docs)"
   ]
  },
  {
   "cell_type": "code",
   "execution_count": 8,
   "id": "916b038b",
   "metadata": {},
   "outputs": [],
   "source": [
    "## feature representation\n",
    "dim=10"
   ]
  },
  {
   "cell_type": "code",
   "execution_count": 9,
   "id": "57375c47",
   "metadata": {},
   "outputs": [
    {
     "name": "stderr",
     "output_type": "stream",
     "text": [
      "c:\\Users\\KAVYA\\ANN\\venv_new\\Lib\\site-packages\\keras\\src\\layers\\core\\embedding.py:97: UserWarning: Argument `input_length` is deprecated. Just remove it.\n",
      "  warnings.warn(\n"
     ]
    }
   ],
   "source": [
    "model=Sequential()\n",
    "model.add(Embedding(voc_size,dim,input_length=sent_length))\n",
    "model.compile('adam','mse')"
   ]
  },
  {
   "cell_type": "code",
   "execution_count": 10,
   "id": "100c3b52",
   "metadata": {},
   "outputs": [
    {
     "data": {
      "text/html": [
       "<pre style=\"white-space:pre;overflow-x:auto;line-height:normal;font-family:Menlo,'DejaVu Sans Mono',consolas,'Courier New',monospace\"><span style=\"font-weight: bold\">Model: \"sequential\"</span>\n",
       "</pre>\n"
      ],
      "text/plain": [
       "\u001b[1mModel: \"sequential\"\u001b[0m\n"
      ]
     },
     "metadata": {},
     "output_type": "display_data"
    },
    {
     "data": {
      "text/html": [
       "<pre style=\"white-space:pre;overflow-x:auto;line-height:normal;font-family:Menlo,'DejaVu Sans Mono',consolas,'Courier New',monospace\">┏━━━━━━━━━━━━━━━━━━━━━━━━━━━━━━━━━┳━━━━━━━━━━━━━━━━━━━━━━━━┳━━━━━━━━━━━━━━━┓\n",
       "┃<span style=\"font-weight: bold\"> Layer (type)                    </span>┃<span style=\"font-weight: bold\"> Output Shape           </span>┃<span style=\"font-weight: bold\">       Param # </span>┃\n",
       "┡━━━━━━━━━━━━━━━━━━━━━━━━━━━━━━━━━╇━━━━━━━━━━━━━━━━━━━━━━━━╇━━━━━━━━━━━━━━━┩\n",
       "│ embedding (<span style=\"color: #0087ff; text-decoration-color: #0087ff\">Embedding</span>)           │ ?                      │   <span style=\"color: #00af00; text-decoration-color: #00af00\">0</span> (unbuilt) │\n",
       "└─────────────────────────────────┴────────────────────────┴───────────────┘\n",
       "</pre>\n"
      ],
      "text/plain": [
       "┏━━━━━━━━━━━━━━━━━━━━━━━━━━━━━━━━━┳━━━━━━━━━━━━━━━━━━━━━━━━┳━━━━━━━━━━━━━━━┓\n",
       "┃\u001b[1m \u001b[0m\u001b[1mLayer (type)                   \u001b[0m\u001b[1m \u001b[0m┃\u001b[1m \u001b[0m\u001b[1mOutput Shape          \u001b[0m\u001b[1m \u001b[0m┃\u001b[1m \u001b[0m\u001b[1m      Param #\u001b[0m\u001b[1m \u001b[0m┃\n",
       "┡━━━━━━━━━━━━━━━━━━━━━━━━━━━━━━━━━╇━━━━━━━━━━━━━━━━━━━━━━━━╇━━━━━━━━━━━━━━━┩\n",
       "│ embedding (\u001b[38;5;33mEmbedding\u001b[0m)           │ ?                      │   \u001b[38;5;34m0\u001b[0m (unbuilt) │\n",
       "└─────────────────────────────────┴────────────────────────┴───────────────┘\n"
      ]
     },
     "metadata": {},
     "output_type": "display_data"
    },
    {
     "data": {
      "text/html": [
       "<pre style=\"white-space:pre;overflow-x:auto;line-height:normal;font-family:Menlo,'DejaVu Sans Mono',consolas,'Courier New',monospace\"><span style=\"font-weight: bold\"> Total params: </span><span style=\"color: #00af00; text-decoration-color: #00af00\">0</span> (0.00 B)\n",
       "</pre>\n"
      ],
      "text/plain": [
       "\u001b[1m Total params: \u001b[0m\u001b[38;5;34m0\u001b[0m (0.00 B)\n"
      ]
     },
     "metadata": {},
     "output_type": "display_data"
    },
    {
     "data": {
      "text/html": [
       "<pre style=\"white-space:pre;overflow-x:auto;line-height:normal;font-family:Menlo,'DejaVu Sans Mono',consolas,'Courier New',monospace\"><span style=\"font-weight: bold\"> Trainable params: </span><span style=\"color: #00af00; text-decoration-color: #00af00\">0</span> (0.00 B)\n",
       "</pre>\n"
      ],
      "text/plain": [
       "\u001b[1m Trainable params: \u001b[0m\u001b[38;5;34m0\u001b[0m (0.00 B)\n"
      ]
     },
     "metadata": {},
     "output_type": "display_data"
    },
    {
     "data": {
      "text/html": [
       "<pre style=\"white-space:pre;overflow-x:auto;line-height:normal;font-family:Menlo,'DejaVu Sans Mono',consolas,'Courier New',monospace\"><span style=\"font-weight: bold\"> Non-trainable params: </span><span style=\"color: #00af00; text-decoration-color: #00af00\">0</span> (0.00 B)\n",
       "</pre>\n"
      ],
      "text/plain": [
       "\u001b[1m Non-trainable params: \u001b[0m\u001b[38;5;34m0\u001b[0m (0.00 B)\n"
      ]
     },
     "metadata": {},
     "output_type": "display_data"
    }
   ],
   "source": [
    "model.summary()"
   ]
  },
  {
   "cell_type": "code",
   "execution_count": 11,
   "id": "5c0ebc33",
   "metadata": {},
   "outputs": [
    {
     "name": "stdout",
     "output_type": "stream",
     "text": [
      "\u001b[1m1/1\u001b[0m \u001b[32m━━━━━━━━━━━━━━━━━━━━\u001b[0m\u001b[37m\u001b[0m \u001b[1m0s\u001b[0m 477ms/step\n"
     ]
    },
    {
     "data": {
      "text/plain": [
       "array([[[-0.04809065, -0.00946371,  0.02581655,  0.0114138 ,\n",
       "          0.01896812, -0.04763696,  0.03908828, -0.04843929,\n",
       "          0.02494712, -0.03056583],\n",
       "        [-0.04809065, -0.00946371,  0.02581655,  0.0114138 ,\n",
       "          0.01896812, -0.04763696,  0.03908828, -0.04843929,\n",
       "          0.02494712, -0.03056583],\n",
       "        [-0.04809065, -0.00946371,  0.02581655,  0.0114138 ,\n",
       "          0.01896812, -0.04763696,  0.03908828, -0.04843929,\n",
       "          0.02494712, -0.03056583],\n",
       "        [-0.04809065, -0.00946371,  0.02581655,  0.0114138 ,\n",
       "          0.01896812, -0.04763696,  0.03908828, -0.04843929,\n",
       "          0.02494712, -0.03056583],\n",
       "        [ 0.04413306, -0.02355387,  0.0286965 ,  0.01377895,\n",
       "          0.02757442, -0.00076152, -0.04681214,  0.02836457,\n",
       "          0.02145955, -0.04553617],\n",
       "        [ 0.02324532,  0.0420859 ,  0.04269284,  0.0373669 ,\n",
       "         -0.02165468,  0.02924594, -0.01674476,  0.0077072 ,\n",
       "          0.02371622, -0.0211032 ],\n",
       "        [-0.02527944, -0.02252014, -0.01552689,  0.04188487,\n",
       "          0.0346713 ,  0.02176512,  0.02644778,  0.00212511,\n",
       "         -0.01478889,  0.002036  ],\n",
       "        [-0.04593527,  0.01880929,  0.00785232,  0.03567297,\n",
       "         -0.04005437,  0.0269117 , -0.02865603, -0.01406617,\n",
       "          0.02776575,  0.04875131]],\n",
       "\n",
       "       [[-0.04809065, -0.00946371,  0.02581655,  0.0114138 ,\n",
       "          0.01896812, -0.04763696,  0.03908828, -0.04843929,\n",
       "          0.02494712, -0.03056583],\n",
       "        [-0.04809065, -0.00946371,  0.02581655,  0.0114138 ,\n",
       "          0.01896812, -0.04763696,  0.03908828, -0.04843929,\n",
       "          0.02494712, -0.03056583],\n",
       "        [-0.04809065, -0.00946371,  0.02581655,  0.0114138 ,\n",
       "          0.01896812, -0.04763696,  0.03908828, -0.04843929,\n",
       "          0.02494712, -0.03056583],\n",
       "        [-0.04809065, -0.00946371,  0.02581655,  0.0114138 ,\n",
       "          0.01896812, -0.04763696,  0.03908828, -0.04843929,\n",
       "          0.02494712, -0.03056583],\n",
       "        [ 0.04413306, -0.02355387,  0.0286965 ,  0.01377895,\n",
       "          0.02757442, -0.00076152, -0.04681214,  0.02836457,\n",
       "          0.02145955, -0.04553617],\n",
       "        [ 0.02324532,  0.0420859 ,  0.04269284,  0.0373669 ,\n",
       "         -0.02165468,  0.02924594, -0.01674476,  0.0077072 ,\n",
       "          0.02371622, -0.0211032 ],\n",
       "        [-0.02527944, -0.02252014, -0.01552689,  0.04188487,\n",
       "          0.0346713 ,  0.02176512,  0.02644778,  0.00212511,\n",
       "         -0.01478889,  0.002036  ],\n",
       "        [ 0.0152385 ,  0.01984194,  0.0318053 ,  0.02822324,\n",
       "         -0.01436245, -0.00103549, -0.02485688,  0.01333972,\n",
       "          0.04553007, -0.03243746]],\n",
       "\n",
       "       [[-0.04809065, -0.00946371,  0.02581655,  0.0114138 ,\n",
       "          0.01896812, -0.04763696,  0.03908828, -0.04843929,\n",
       "          0.02494712, -0.03056583],\n",
       "        [-0.04809065, -0.00946371,  0.02581655,  0.0114138 ,\n",
       "          0.01896812, -0.04763696,  0.03908828, -0.04843929,\n",
       "          0.02494712, -0.03056583],\n",
       "        [-0.04809065, -0.00946371,  0.02581655,  0.0114138 ,\n",
       "          0.01896812, -0.04763696,  0.03908828, -0.04843929,\n",
       "          0.02494712, -0.03056583],\n",
       "        [-0.04809065, -0.00946371,  0.02581655,  0.0114138 ,\n",
       "          0.01896812, -0.04763696,  0.03908828, -0.04843929,\n",
       "          0.02494712, -0.03056583],\n",
       "        [ 0.04413306, -0.02355387,  0.0286965 ,  0.01377895,\n",
       "          0.02757442, -0.00076152, -0.04681214,  0.02836457,\n",
       "          0.02145955, -0.04553617],\n",
       "        [-0.02197944,  0.04121422, -0.00706825, -0.02821382,\n",
       "         -0.01082657,  0.02250273,  0.0368843 ,  0.00653598,\n",
       "          0.03253739,  0.01062188],\n",
       "        [-0.02527944, -0.02252014, -0.01552689,  0.04188487,\n",
       "          0.0346713 ,  0.02176512,  0.02644778,  0.00212511,\n",
       "         -0.01478889,  0.002036  ],\n",
       "        [-0.00144846,  0.04011346, -0.02099529,  0.00050601,\n",
       "          0.01598701, -0.01393223,  0.0026738 , -0.04204671,\n",
       "         -0.04395275,  0.00820718]],\n",
       "\n",
       "       [[-0.04809065, -0.00946371,  0.02581655,  0.0114138 ,\n",
       "          0.01896812, -0.04763696,  0.03908828, -0.04843929,\n",
       "          0.02494712, -0.03056583],\n",
       "        [-0.04809065, -0.00946371,  0.02581655,  0.0114138 ,\n",
       "          0.01896812, -0.04763696,  0.03908828, -0.04843929,\n",
       "          0.02494712, -0.03056583],\n",
       "        [-0.04809065, -0.00946371,  0.02581655,  0.0114138 ,\n",
       "          0.01896812, -0.04763696,  0.03908828, -0.04843929,\n",
       "          0.02494712, -0.03056583],\n",
       "        [ 0.014404  ,  0.00276636,  0.04676269, -0.01023371,\n",
       "          0.02737564,  0.01766486, -0.03565009, -0.0294111 ,\n",
       "          0.04664687, -0.04981663],\n",
       "        [ 0.04213533,  0.01888671, -0.02725692,  0.00033319,\n",
       "         -0.03536518,  0.01424073, -0.02567422,  0.04154557,\n",
       "          0.00568293,  0.00175233],\n",
       "        [-0.01863635,  0.03273381, -0.02453196, -0.00127835,\n",
       "          0.00443734, -0.03450258, -0.04888957, -0.0010735 ,\n",
       "         -0.01878336, -0.04131031],\n",
       "        [ 0.03642194,  0.00732313,  0.0408763 , -0.03871178,\n",
       "         -0.00215347,  0.02799653, -0.01979342,  0.02085961,\n",
       "         -0.01939473,  0.00531404],\n",
       "        [-0.02650808, -0.00289179, -0.00519626,  0.00109663,\n",
       "         -0.01827871, -0.0080943 ,  0.04523407,  0.01971957,\n",
       "         -0.02099838,  0.00737153]],\n",
       "\n",
       "       [[-0.04809065, -0.00946371,  0.02581655,  0.0114138 ,\n",
       "          0.01896812, -0.04763696,  0.03908828, -0.04843929,\n",
       "          0.02494712, -0.03056583],\n",
       "        [-0.04809065, -0.00946371,  0.02581655,  0.0114138 ,\n",
       "          0.01896812, -0.04763696,  0.03908828, -0.04843929,\n",
       "          0.02494712, -0.03056583],\n",
       "        [-0.04809065, -0.00946371,  0.02581655,  0.0114138 ,\n",
       "          0.01896812, -0.04763696,  0.03908828, -0.04843929,\n",
       "          0.02494712, -0.03056583],\n",
       "        [ 0.014404  ,  0.00276636,  0.04676269, -0.01023371,\n",
       "          0.02737564,  0.01766486, -0.03565009, -0.0294111 ,\n",
       "          0.04664687, -0.04981663],\n",
       "        [ 0.04213533,  0.01888671, -0.02725692,  0.00033319,\n",
       "         -0.03536518,  0.01424073, -0.02567422,  0.04154557,\n",
       "          0.00568293,  0.00175233],\n",
       "        [-0.01863635,  0.03273381, -0.02453196, -0.00127835,\n",
       "          0.00443734, -0.03450258, -0.04888957, -0.0010735 ,\n",
       "         -0.01878336, -0.04131031],\n",
       "        [ 0.03642194,  0.00732313,  0.0408763 , -0.03871178,\n",
       "         -0.00215347,  0.02799653, -0.01979342,  0.02085961,\n",
       "         -0.01939473,  0.00531404],\n",
       "        [ 0.00941206,  0.03999922,  0.03312167, -0.01672826,\n",
       "          0.02841585, -0.0233139 , -0.04628609,  0.0427726 ,\n",
       "          0.01350695,  0.02222877]],\n",
       "\n",
       "       [[-0.04809065, -0.00946371,  0.02581655,  0.0114138 ,\n",
       "          0.01896812, -0.04763696,  0.03908828, -0.04843929,\n",
       "          0.02494712, -0.03056583],\n",
       "        [-0.04809065, -0.00946371,  0.02581655,  0.0114138 ,\n",
       "          0.01896812, -0.04763696,  0.03908828, -0.04843929,\n",
       "          0.02494712, -0.03056583],\n",
       "        [-0.04809065, -0.00946371,  0.02581655,  0.0114138 ,\n",
       "          0.01896812, -0.04763696,  0.03908828, -0.04843929,\n",
       "          0.02494712, -0.03056583],\n",
       "        [-0.04739274,  0.00839674,  0.00505326,  0.02745566,\n",
       "          0.0318053 , -0.00780276,  0.04669372, -0.04458993,\n",
       "          0.0386634 , -0.03233459],\n",
       "        [ 0.04413306, -0.02355387,  0.0286965 ,  0.01377895,\n",
       "          0.02757442, -0.00076152, -0.04681214,  0.02836457,\n",
       "          0.02145955, -0.04553617],\n",
       "        [-0.04632482,  0.03038473, -0.04936754, -0.03007007,\n",
       "          0.03260252,  0.0272107 ,  0.00870825, -0.04988637,\n",
       "         -0.03550778, -0.04196236],\n",
       "        [-0.02527944, -0.02252014, -0.01552689,  0.04188487,\n",
       "          0.0346713 ,  0.02176512,  0.02644778,  0.00212511,\n",
       "         -0.01478889,  0.002036  ],\n",
       "        [ 0.00278157, -0.04660372, -0.02415036,  0.00371821,\n",
       "          0.03203001,  0.02814262,  0.0187074 ,  0.02836639,\n",
       "          0.00439936, -0.03140511]],\n",
       "\n",
       "       [[-0.04809065, -0.00946371,  0.02581655,  0.0114138 ,\n",
       "          0.01896812, -0.04763696,  0.03908828, -0.04843929,\n",
       "          0.02494712, -0.03056583],\n",
       "        [-0.04809065, -0.00946371,  0.02581655,  0.0114138 ,\n",
       "          0.01896812, -0.04763696,  0.03908828, -0.04843929,\n",
       "          0.02494712, -0.03056583],\n",
       "        [-0.04809065, -0.00946371,  0.02581655,  0.0114138 ,\n",
       "          0.01896812, -0.04763696,  0.03908828, -0.04843929,\n",
       "          0.02494712, -0.03056583],\n",
       "        [-0.04809065, -0.00946371,  0.02581655,  0.0114138 ,\n",
       "          0.01896812, -0.04763696,  0.03908828, -0.04843929,\n",
       "          0.02494712, -0.03056583],\n",
       "        [ 0.00050337, -0.047673  ,  0.02863399, -0.02674448,\n",
       "          0.01835945, -0.0431556 , -0.0423661 ,  0.03945663,\n",
       "          0.02120385, -0.0182228 ],\n",
       "        [ 0.01446927, -0.04823716,  0.0168043 ,  0.0088585 ,\n",
       "         -0.00945368,  0.04164474, -0.02843536,  0.00435351,\n",
       "         -0.04059646, -0.03340884],\n",
       "        [ 0.00998709, -0.02368402, -0.04718536,  0.03969047,\n",
       "          0.00293039, -0.031294  , -0.03222214,  0.03132811,\n",
       "         -0.01936349,  0.03385688],\n",
       "        [ 0.03642194,  0.00732313,  0.0408763 , -0.03871178,\n",
       "         -0.00215347,  0.02799653, -0.01979342,  0.02085961,\n",
       "         -0.01939473,  0.00531404]]], dtype=float32)"
      ]
     },
     "execution_count": 11,
     "metadata": {},
     "output_type": "execute_result"
    }
   ],
   "source": [
    "model.predict(embedded_docs)"
   ]
  },
  {
   "cell_type": "code",
   "execution_count": 12,
   "id": "55179d57",
   "metadata": {},
   "outputs": [
    {
     "data": {
      "text/plain": [
       "array([   0,    0,    0,    0, 3640, 8173, 4859, 7428], dtype=int32)"
      ]
     },
     "execution_count": 12,
     "metadata": {},
     "output_type": "execute_result"
    }
   ],
   "source": [
    "embedded_docs[0]"
   ]
  },
  {
   "cell_type": "code",
   "execution_count": 13,
   "id": "8874c1c9",
   "metadata": {},
   "outputs": [
    {
     "ename": "ValueError",
     "evalue": "Exception encountered when calling Sequential.call().\n\n\u001b[1mCannot take the length of shape with unknown rank.\u001b[0m\n\nArguments received by Sequential.call():\n  • inputs=tf.Tensor(shape=<unknown>, dtype=int32)\n  • training=False\n  • mask=None\n  • kwargs=<class 'inspect._empty'>",
     "output_type": "error",
     "traceback": [
      "\u001b[31m---------------------------------------------------------------------------\u001b[39m",
      "\u001b[31mValueError\u001b[39m                                Traceback (most recent call last)",
      "\u001b[36mCell\u001b[39m\u001b[36m \u001b[39m\u001b[32mIn[13]\u001b[39m\u001b[32m, line 1\u001b[39m\n\u001b[32m----> \u001b[39m\u001b[32m1\u001b[39m \u001b[43mmodel\u001b[49m\u001b[43m.\u001b[49m\u001b[43mpredict\u001b[49m\u001b[43m(\u001b[49m\u001b[43membedded_docs\u001b[49m\u001b[43m[\u001b[49m\u001b[32;43m0\u001b[39;49m\u001b[43m]\u001b[49m\u001b[43m)\u001b[49m\n",
      "\u001b[36mFile \u001b[39m\u001b[32mc:\\Users\\KAVYA\\ANN\\venv_new\\Lib\\site-packages\\keras\\src\\utils\\traceback_utils.py:122\u001b[39m, in \u001b[36mfilter_traceback.<locals>.error_handler\u001b[39m\u001b[34m(*args, **kwargs)\u001b[39m\n\u001b[32m    119\u001b[39m     filtered_tb = _process_traceback_frames(e.__traceback__)\n\u001b[32m    120\u001b[39m     \u001b[38;5;66;03m# To get the full stack trace, call:\u001b[39;00m\n\u001b[32m    121\u001b[39m     \u001b[38;5;66;03m# `keras.config.disable_traceback_filtering()`\u001b[39;00m\n\u001b[32m--> \u001b[39m\u001b[32m122\u001b[39m     \u001b[38;5;28;01mraise\u001b[39;00m e.with_traceback(filtered_tb) \u001b[38;5;28;01mfrom\u001b[39;00m\u001b[38;5;250m \u001b[39m\u001b[38;5;28;01mNone\u001b[39;00m\n\u001b[32m    123\u001b[39m \u001b[38;5;28;01mfinally\u001b[39;00m:\n\u001b[32m    124\u001b[39m     \u001b[38;5;28;01mdel\u001b[39;00m filtered_tb\n",
      "\u001b[36mFile \u001b[39m\u001b[32mc:\\Users\\KAVYA\\ANN\\venv_new\\Lib\\site-packages\\keras\\src\\utils\\traceback_utils.py:122\u001b[39m, in \u001b[36mfilter_traceback.<locals>.error_handler\u001b[39m\u001b[34m(*args, **kwargs)\u001b[39m\n\u001b[32m    119\u001b[39m     filtered_tb = _process_traceback_frames(e.__traceback__)\n\u001b[32m    120\u001b[39m     \u001b[38;5;66;03m# To get the full stack trace, call:\u001b[39;00m\n\u001b[32m    121\u001b[39m     \u001b[38;5;66;03m# `keras.config.disable_traceback_filtering()`\u001b[39;00m\n\u001b[32m--> \u001b[39m\u001b[32m122\u001b[39m     \u001b[38;5;28;01mraise\u001b[39;00m e.with_traceback(filtered_tb) \u001b[38;5;28;01mfrom\u001b[39;00m\u001b[38;5;250m \u001b[39m\u001b[38;5;28;01mNone\u001b[39;00m\n\u001b[32m    123\u001b[39m \u001b[38;5;28;01mfinally\u001b[39;00m:\n\u001b[32m    124\u001b[39m     \u001b[38;5;28;01mdel\u001b[39;00m filtered_tb\n",
      "\u001b[31mValueError\u001b[39m: Exception encountered when calling Sequential.call().\n\n\u001b[1mCannot take the length of shape with unknown rank.\u001b[0m\n\nArguments received by Sequential.call():\n  • inputs=tf.Tensor(shape=<unknown>, dtype=int32)\n  • training=False\n  • mask=None\n  • kwargs=<class 'inspect._empty'>"
     ]
    }
   ],
   "source": [
    "model.predict(embedded_docs[0])"
   ]
  }
 ],
 "metadata": {
  "kernelspec": {
   "display_name": "venv_new",
   "language": "python",
   "name": "python3"
  },
  "language_info": {
   "codemirror_mode": {
    "name": "ipython",
    "version": 3
   },
   "file_extension": ".py",
   "mimetype": "text/x-python",
   "name": "python",
   "nbconvert_exporter": "python",
   "pygments_lexer": "ipython3",
   "version": "3.13.5"
  }
 },
 "nbformat": 4,
 "nbformat_minor": 5
}
